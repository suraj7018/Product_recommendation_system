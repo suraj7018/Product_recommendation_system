{
  "cells": [
    {
      "cell_type": "code",
      "execution_count": 1,
      "metadata": {
        "id": "17AOYX8HjWsS"
      },
      "outputs": [],
      "source": [
        "#Recommendation system using Flipkart dataset\n",
        "import pandas as pd\n",
        "import numpy as np\n",
        "from sklearn.metrics.pairwise import cosine_similarity"
      ]
    },
    {
      "cell_type": "code",
      "execution_count": 27,
      "metadata": {
        "id": "ZpEDwHxcpHyZ"
      },
      "outputs": [],
      "source": [
        "df = pd.read_csv('/content/flipkart_com-ecommerce_sample.csv')"
      ]
    },
    {
      "cell_type": "code",
      "execution_count": 28,
      "metadata": {
        "colab": {
          "base_uri": "https://localhost:8080/",
          "height": 573
        },
        "id": "gTjgYy83sOze",
        "outputId": "3b4be354-c09a-4d50-98f1-603814e5d64f"
      },
      "outputs": [
        {
          "output_type": "execute_result",
          "data": {
            "text/plain": [
              "                                uniq_id            crawl_timestamp  \\\n",
              "17232  63eefeacb898ab93e03ed36867ac2304  2015-12-20 08:26:17 +0000   \n",
              "8365   6f469a61440933a6718420184d22a104  2016-01-07 05:50:25 +0000   \n",
              "12181  f77c8e9ec962a78f9668d8a8113666c6  2015-12-30 00:17:46 +0000   \n",
              "15721  21fa7bd10ce9db8882fe09647dd4eb43  2015-12-29 05:07:38 +0000   \n",
              "1689   7985728f03843aed43e19c36753d48f2  2016-01-01 10:55:30 +0000   \n",
              "\n",
              "                                             product_url  \\\n",
              "17232  http://www.flipkart.com/softspun-microfiber-mu...   \n",
              "8365   http://www.flipkart.com/first-smart-deal-plant...   \n",
              "12181  http://www.flipkart.com/classique-designer-jew...   \n",
              "15721  http://www.flipkart.com/pet-club51-pc237-l-bed...   \n",
              "1689   http://www.flipkart.com/gizmoz-customs-back-co...   \n",
              "\n",
              "                                            product_name  \\\n",
              "17232            Softspun Microfiber Multi-purpose Towel   \n",
              "8365                First Smart Deal Plant Container Set   \n",
              "12181  Classique Designer Jewellery Alloy Pearl Rhodi...   \n",
              "15721                         Pet Club51 PC237 L Pet Bed   \n",
              "1689    Gizmoz Customs Back Cover for Apple iPad 2, 3, 4   \n",
              "\n",
              "                                   product_category_tree               pid  \\\n",
              "17232        [\"Home Furnishing >> Bath Linen >> Towels\"]  BTWEA4F3G4BNEDHF   \n",
              "8365   [\"Tools & Hardware >> Tools >> Gardening Tools...  PCSEC86VVWZKW4F3   \n",
              "12181  [\"Jewellery >> Bangles, Bracelets & Armlets >>...  BBAEBEYR9ZATYRZH   \n",
              "15721                     [\"Furniture >> Pet Furniture\"]  PEBEDMZDWBVBHZNR   \n",
              "1689   [\"Mobiles & Accessories >> Tablet Accessories ...  ACCE9E2RT56M3GSU   \n",
              "\n",
              "       retail_price  discounted_price  \\\n",
              "17232         401.0             200.0   \n",
              "8365          600.0             411.0   \n",
              "12181        2999.0             499.0   \n",
              "15721        3000.0            1549.0   \n",
              "1689         2500.0             550.0   \n",
              "\n",
              "                                                   image  \\\n",
              "17232  [\"http://img5a.flixcart.com/image/bath-towel/d...   \n",
              "8365   [\"http://img5a.flixcart.com/image/plant-contai...   \n",
              "12181  [\"http://img6a.flixcart.com/image/bangle-brace...   \n",
              "15721  [\"http://img6a.flixcart.com/image/pet-bed/e/b/...   \n",
              "1689   [\"http://img5a.flixcart.com/image/cases-covers...   \n",
              "\n",
              "       is_FK_Advantage_product  \\\n",
              "17232                    False   \n",
              "8365                     False   \n",
              "12181                    False   \n",
              "15721                    False   \n",
              "1689                     False   \n",
              "\n",
              "                                             description       product_rating  \\\n",
              "17232  Buy Softspun Microfiber Multi-purpose Towel at...  No rating available   \n",
              "8365   Buy First Smart Deal Plant Container Set for R...  No rating available   \n",
              "12181  Classique Designer Jewellery Alloy Pearl Rhodi...  No rating available   \n",
              "15721  Pet Club51 PC237 L Pet Bed (Multicolor)\\n     ...  No rating available   \n",
              "1689   Buy Gizmoz Customs Back Cover for Apple iPad 2...  No rating available   \n",
              "\n",
              "            overall_rating                         brand  \\\n",
              "17232  No rating available                      Softspun   \n",
              "8365   No rating available              First Smart Deal   \n",
              "12181  No rating available  Classique Designer Jewellery   \n",
              "15721  No rating available                    Multicolor   \n",
              "1689   No rating available                Gizmoz Customs   \n",
              "\n",
              "                                  product_specifications  \n",
              "17232  {\"product_specification\"=>[{\"key\"=>\"Material\",...  \n",
              "8365   {\"product_specification\"=>[{\"key\"=>\"Shape\", \"v...  \n",
              "12181  {\"product_specification\"=>[{\"key\"=>\"Pearl Shap...  \n",
              "15721  {\"product_specification\"=>[{\"value\"=>\"1 Pet Be...  \n",
              "1689   {\"product_specification\"=>[{\"key\"=>\"Brand\", \"v...  "
            ],
            "text/html": [
              "\n",
              "  <div id=\"df-a0cf60d1-b84e-4613-a91b-c7ca27976e9b\" class=\"colab-df-container\">\n",
              "    <div>\n",
              "<style scoped>\n",
              "    .dataframe tbody tr th:only-of-type {\n",
              "        vertical-align: middle;\n",
              "    }\n",
              "\n",
              "    .dataframe tbody tr th {\n",
              "        vertical-align: top;\n",
              "    }\n",
              "\n",
              "    .dataframe thead th {\n",
              "        text-align: right;\n",
              "    }\n",
              "</style>\n",
              "<table border=\"1\" class=\"dataframe\">\n",
              "  <thead>\n",
              "    <tr style=\"text-align: right;\">\n",
              "      <th></th>\n",
              "      <th>uniq_id</th>\n",
              "      <th>crawl_timestamp</th>\n",
              "      <th>product_url</th>\n",
              "      <th>product_name</th>\n",
              "      <th>product_category_tree</th>\n",
              "      <th>pid</th>\n",
              "      <th>retail_price</th>\n",
              "      <th>discounted_price</th>\n",
              "      <th>image</th>\n",
              "      <th>is_FK_Advantage_product</th>\n",
              "      <th>description</th>\n",
              "      <th>product_rating</th>\n",
              "      <th>overall_rating</th>\n",
              "      <th>brand</th>\n",
              "      <th>product_specifications</th>\n",
              "    </tr>\n",
              "  </thead>\n",
              "  <tbody>\n",
              "    <tr>\n",
              "      <th>17232</th>\n",
              "      <td>63eefeacb898ab93e03ed36867ac2304</td>\n",
              "      <td>2015-12-20 08:26:17 +0000</td>\n",
              "      <td>http://www.flipkart.com/softspun-microfiber-mu...</td>\n",
              "      <td>Softspun Microfiber Multi-purpose Towel</td>\n",
              "      <td>[\"Home Furnishing &gt;&gt; Bath Linen &gt;&gt; Towels\"]</td>\n",
              "      <td>BTWEA4F3G4BNEDHF</td>\n",
              "      <td>401.0</td>\n",
              "      <td>200.0</td>\n",
              "      <td>[\"http://img5a.flixcart.com/image/bath-towel/d...</td>\n",
              "      <td>False</td>\n",
              "      <td>Buy Softspun Microfiber Multi-purpose Towel at...</td>\n",
              "      <td>No rating available</td>\n",
              "      <td>No rating available</td>\n",
              "      <td>Softspun</td>\n",
              "      <td>{\"product_specification\"=&gt;[{\"key\"=&gt;\"Material\",...</td>\n",
              "    </tr>\n",
              "    <tr>\n",
              "      <th>8365</th>\n",
              "      <td>6f469a61440933a6718420184d22a104</td>\n",
              "      <td>2016-01-07 05:50:25 +0000</td>\n",
              "      <td>http://www.flipkart.com/first-smart-deal-plant...</td>\n",
              "      <td>First Smart Deal Plant Container Set</td>\n",
              "      <td>[\"Tools &amp; Hardware &gt;&gt; Tools &gt;&gt; Gardening Tools...</td>\n",
              "      <td>PCSEC86VVWZKW4F3</td>\n",
              "      <td>600.0</td>\n",
              "      <td>411.0</td>\n",
              "      <td>[\"http://img5a.flixcart.com/image/plant-contai...</td>\n",
              "      <td>False</td>\n",
              "      <td>Buy First Smart Deal Plant Container Set for R...</td>\n",
              "      <td>No rating available</td>\n",
              "      <td>No rating available</td>\n",
              "      <td>First Smart Deal</td>\n",
              "      <td>{\"product_specification\"=&gt;[{\"key\"=&gt;\"Shape\", \"v...</td>\n",
              "    </tr>\n",
              "    <tr>\n",
              "      <th>12181</th>\n",
              "      <td>f77c8e9ec962a78f9668d8a8113666c6</td>\n",
              "      <td>2015-12-30 00:17:46 +0000</td>\n",
              "      <td>http://www.flipkart.com/classique-designer-jew...</td>\n",
              "      <td>Classique Designer Jewellery Alloy Pearl Rhodi...</td>\n",
              "      <td>[\"Jewellery &gt;&gt; Bangles, Bracelets &amp; Armlets &gt;&gt;...</td>\n",
              "      <td>BBAEBEYR9ZATYRZH</td>\n",
              "      <td>2999.0</td>\n",
              "      <td>499.0</td>\n",
              "      <td>[\"http://img6a.flixcart.com/image/bangle-brace...</td>\n",
              "      <td>False</td>\n",
              "      <td>Classique Designer Jewellery Alloy Pearl Rhodi...</td>\n",
              "      <td>No rating available</td>\n",
              "      <td>No rating available</td>\n",
              "      <td>Classique Designer Jewellery</td>\n",
              "      <td>{\"product_specification\"=&gt;[{\"key\"=&gt;\"Pearl Shap...</td>\n",
              "    </tr>\n",
              "    <tr>\n",
              "      <th>15721</th>\n",
              "      <td>21fa7bd10ce9db8882fe09647dd4eb43</td>\n",
              "      <td>2015-12-29 05:07:38 +0000</td>\n",
              "      <td>http://www.flipkart.com/pet-club51-pc237-l-bed...</td>\n",
              "      <td>Pet Club51 PC237 L Pet Bed</td>\n",
              "      <td>[\"Furniture &gt;&gt; Pet Furniture\"]</td>\n",
              "      <td>PEBEDMZDWBVBHZNR</td>\n",
              "      <td>3000.0</td>\n",
              "      <td>1549.0</td>\n",
              "      <td>[\"http://img6a.flixcart.com/image/pet-bed/e/b/...</td>\n",
              "      <td>False</td>\n",
              "      <td>Pet Club51 PC237 L Pet Bed (Multicolor)\\n     ...</td>\n",
              "      <td>No rating available</td>\n",
              "      <td>No rating available</td>\n",
              "      <td>Multicolor</td>\n",
              "      <td>{\"product_specification\"=&gt;[{\"value\"=&gt;\"1 Pet Be...</td>\n",
              "    </tr>\n",
              "    <tr>\n",
              "      <th>1689</th>\n",
              "      <td>7985728f03843aed43e19c36753d48f2</td>\n",
              "      <td>2016-01-01 10:55:30 +0000</td>\n",
              "      <td>http://www.flipkart.com/gizmoz-customs-back-co...</td>\n",
              "      <td>Gizmoz Customs Back Cover for Apple iPad 2, 3, 4</td>\n",
              "      <td>[\"Mobiles &amp; Accessories &gt;&gt; Tablet Accessories ...</td>\n",
              "      <td>ACCE9E2RT56M3GSU</td>\n",
              "      <td>2500.0</td>\n",
              "      <td>550.0</td>\n",
              "      <td>[\"http://img5a.flixcart.com/image/cases-covers...</td>\n",
              "      <td>False</td>\n",
              "      <td>Buy Gizmoz Customs Back Cover for Apple iPad 2...</td>\n",
              "      <td>No rating available</td>\n",
              "      <td>No rating available</td>\n",
              "      <td>Gizmoz Customs</td>\n",
              "      <td>{\"product_specification\"=&gt;[{\"key\"=&gt;\"Brand\", \"v...</td>\n",
              "    </tr>\n",
              "  </tbody>\n",
              "</table>\n",
              "</div>\n",
              "    <div class=\"colab-df-buttons\">\n",
              "\n",
              "  <div class=\"colab-df-container\">\n",
              "    <button class=\"colab-df-convert\" onclick=\"convertToInteractive('df-a0cf60d1-b84e-4613-a91b-c7ca27976e9b')\"\n",
              "            title=\"Convert this dataframe to an interactive table.\"\n",
              "            style=\"display:none;\">\n",
              "\n",
              "  <svg xmlns=\"http://www.w3.org/2000/svg\" height=\"24px\" viewBox=\"0 -960 960 960\">\n",
              "    <path d=\"M120-120v-720h720v720H120Zm60-500h600v-160H180v160Zm220 220h160v-160H400v160Zm0 220h160v-160H400v160ZM180-400h160v-160H180v160Zm440 0h160v-160H620v160ZM180-180h160v-160H180v160Zm440 0h160v-160H620v160Z\"/>\n",
              "  </svg>\n",
              "    </button>\n",
              "\n",
              "  <style>\n",
              "    .colab-df-container {\n",
              "      display:flex;\n",
              "      gap: 12px;\n",
              "    }\n",
              "\n",
              "    .colab-df-convert {\n",
              "      background-color: #E8F0FE;\n",
              "      border: none;\n",
              "      border-radius: 50%;\n",
              "      cursor: pointer;\n",
              "      display: none;\n",
              "      fill: #1967D2;\n",
              "      height: 32px;\n",
              "      padding: 0 0 0 0;\n",
              "      width: 32px;\n",
              "    }\n",
              "\n",
              "    .colab-df-convert:hover {\n",
              "      background-color: #E2EBFA;\n",
              "      box-shadow: 0px 1px 2px rgba(60, 64, 67, 0.3), 0px 1px 3px 1px rgba(60, 64, 67, 0.15);\n",
              "      fill: #174EA6;\n",
              "    }\n",
              "\n",
              "    .colab-df-buttons div {\n",
              "      margin-bottom: 4px;\n",
              "    }\n",
              "\n",
              "    [theme=dark] .colab-df-convert {\n",
              "      background-color: #3B4455;\n",
              "      fill: #D2E3FC;\n",
              "    }\n",
              "\n",
              "    [theme=dark] .colab-df-convert:hover {\n",
              "      background-color: #434B5C;\n",
              "      box-shadow: 0px 1px 3px 1px rgba(0, 0, 0, 0.15);\n",
              "      filter: drop-shadow(0px 1px 2px rgba(0, 0, 0, 0.3));\n",
              "      fill: #FFFFFF;\n",
              "    }\n",
              "  </style>\n",
              "\n",
              "    <script>\n",
              "      const buttonEl =\n",
              "        document.querySelector('#df-a0cf60d1-b84e-4613-a91b-c7ca27976e9b button.colab-df-convert');\n",
              "      buttonEl.style.display =\n",
              "        google.colab.kernel.accessAllowed ? 'block' : 'none';\n",
              "\n",
              "      async function convertToInteractive(key) {\n",
              "        const element = document.querySelector('#df-a0cf60d1-b84e-4613-a91b-c7ca27976e9b');\n",
              "        const dataTable =\n",
              "          await google.colab.kernel.invokeFunction('convertToInteractive',\n",
              "                                                    [key], {});\n",
              "        if (!dataTable) return;\n",
              "\n",
              "        const docLinkHtml = 'Like what you see? Visit the ' +\n",
              "          '<a target=\"_blank\" href=https://colab.research.google.com/notebooks/data_table.ipynb>data table notebook</a>'\n",
              "          + ' to learn more about interactive tables.';\n",
              "        element.innerHTML = '';\n",
              "        dataTable['output_type'] = 'display_data';\n",
              "        await google.colab.output.renderOutput(dataTable, element);\n",
              "        const docLink = document.createElement('div');\n",
              "        docLink.innerHTML = docLinkHtml;\n",
              "        element.appendChild(docLink);\n",
              "      }\n",
              "    </script>\n",
              "  </div>\n",
              "\n",
              "\n",
              "<div id=\"df-79b4bb3f-28bb-4815-90b3-672bb245b4d6\">\n",
              "  <button class=\"colab-df-quickchart\" onclick=\"quickchart('df-79b4bb3f-28bb-4815-90b3-672bb245b4d6')\"\n",
              "            title=\"Suggest charts\"\n",
              "            style=\"display:none;\">\n",
              "\n",
              "<svg xmlns=\"http://www.w3.org/2000/svg\" height=\"24px\"viewBox=\"0 0 24 24\"\n",
              "     width=\"24px\">\n",
              "    <g>\n",
              "        <path d=\"M19 3H5c-1.1 0-2 .9-2 2v14c0 1.1.9 2 2 2h14c1.1 0 2-.9 2-2V5c0-1.1-.9-2-2-2zM9 17H7v-7h2v7zm4 0h-2V7h2v10zm4 0h-2v-4h2v4z\"/>\n",
              "    </g>\n",
              "</svg>\n",
              "  </button>\n",
              "\n",
              "<style>\n",
              "  .colab-df-quickchart {\n",
              "      --bg-color: #E8F0FE;\n",
              "      --fill-color: #1967D2;\n",
              "      --hover-bg-color: #E2EBFA;\n",
              "      --hover-fill-color: #174EA6;\n",
              "      --disabled-fill-color: #AAA;\n",
              "      --disabled-bg-color: #DDD;\n",
              "  }\n",
              "\n",
              "  [theme=dark] .colab-df-quickchart {\n",
              "      --bg-color: #3B4455;\n",
              "      --fill-color: #D2E3FC;\n",
              "      --hover-bg-color: #434B5C;\n",
              "      --hover-fill-color: #FFFFFF;\n",
              "      --disabled-bg-color: #3B4455;\n",
              "      --disabled-fill-color: #666;\n",
              "  }\n",
              "\n",
              "  .colab-df-quickchart {\n",
              "    background-color: var(--bg-color);\n",
              "    border: none;\n",
              "    border-radius: 50%;\n",
              "    cursor: pointer;\n",
              "    display: none;\n",
              "    fill: var(--fill-color);\n",
              "    height: 32px;\n",
              "    padding: 0;\n",
              "    width: 32px;\n",
              "  }\n",
              "\n",
              "  .colab-df-quickchart:hover {\n",
              "    background-color: var(--hover-bg-color);\n",
              "    box-shadow: 0 1px 2px rgba(60, 64, 67, 0.3), 0 1px 3px 1px rgba(60, 64, 67, 0.15);\n",
              "    fill: var(--button-hover-fill-color);\n",
              "  }\n",
              "\n",
              "  .colab-df-quickchart-complete:disabled,\n",
              "  .colab-df-quickchart-complete:disabled:hover {\n",
              "    background-color: var(--disabled-bg-color);\n",
              "    fill: var(--disabled-fill-color);\n",
              "    box-shadow: none;\n",
              "  }\n",
              "\n",
              "  .colab-df-spinner {\n",
              "    border: 2px solid var(--fill-color);\n",
              "    border-color: transparent;\n",
              "    border-bottom-color: var(--fill-color);\n",
              "    animation:\n",
              "      spin 1s steps(1) infinite;\n",
              "  }\n",
              "\n",
              "  @keyframes spin {\n",
              "    0% {\n",
              "      border-color: transparent;\n",
              "      border-bottom-color: var(--fill-color);\n",
              "      border-left-color: var(--fill-color);\n",
              "    }\n",
              "    20% {\n",
              "      border-color: transparent;\n",
              "      border-left-color: var(--fill-color);\n",
              "      border-top-color: var(--fill-color);\n",
              "    }\n",
              "    30% {\n",
              "      border-color: transparent;\n",
              "      border-left-color: var(--fill-color);\n",
              "      border-top-color: var(--fill-color);\n",
              "      border-right-color: var(--fill-color);\n",
              "    }\n",
              "    40% {\n",
              "      border-color: transparent;\n",
              "      border-right-color: var(--fill-color);\n",
              "      border-top-color: var(--fill-color);\n",
              "    }\n",
              "    60% {\n",
              "      border-color: transparent;\n",
              "      border-right-color: var(--fill-color);\n",
              "    }\n",
              "    80% {\n",
              "      border-color: transparent;\n",
              "      border-right-color: var(--fill-color);\n",
              "      border-bottom-color: var(--fill-color);\n",
              "    }\n",
              "    90% {\n",
              "      border-color: transparent;\n",
              "      border-bottom-color: var(--fill-color);\n",
              "    }\n",
              "  }\n",
              "</style>\n",
              "\n",
              "  <script>\n",
              "    async function quickchart(key) {\n",
              "      const quickchartButtonEl =\n",
              "        document.querySelector('#' + key + ' button');\n",
              "      quickchartButtonEl.disabled = true;  // To prevent multiple clicks.\n",
              "      quickchartButtonEl.classList.add('colab-df-spinner');\n",
              "      try {\n",
              "        const charts = await google.colab.kernel.invokeFunction(\n",
              "            'suggestCharts', [key], {});\n",
              "      } catch (error) {\n",
              "        console.error('Error during call to suggestCharts:', error);\n",
              "      }\n",
              "      quickchartButtonEl.classList.remove('colab-df-spinner');\n",
              "      quickchartButtonEl.classList.add('colab-df-quickchart-complete');\n",
              "    }\n",
              "    (() => {\n",
              "      let quickchartButtonEl =\n",
              "        document.querySelector('#df-79b4bb3f-28bb-4815-90b3-672bb245b4d6 button');\n",
              "      quickchartButtonEl.style.display =\n",
              "        google.colab.kernel.accessAllowed ? 'block' : 'none';\n",
              "    })();\n",
              "  </script>\n",
              "</div>\n",
              "\n",
              "    </div>\n",
              "  </div>\n"
            ],
            "application/vnd.google.colaboratory.intrinsic+json": {
              "type": "dataframe",
              "repr_error": "0"
            }
          },
          "metadata": {},
          "execution_count": 28
        }
      ],
      "source": [
        "df.sample(5)"
      ]
    },
    {
      "cell_type": "code",
      "execution_count": 5,
      "metadata": {
        "colab": {
          "base_uri": "https://localhost:8080/",
          "height": 452
        },
        "id": "-dn_pEwjyltr",
        "outputId": "93f24aef-6e3f-44ce-80c2-a8773ed4ca72"
      },
      "outputs": [
        {
          "output_type": "display_data",
          "data": {
            "text/plain": [
              "<Figure size 640x480 with 1 Axes>"
            ],
            "image/png": "[encoded data removed]"
          },
          "metadata": {}
        }
      ],
      "source": [
        "# @title retail_price\n",
        "\n",
        "from matplotlib import pyplot as plt\n",
        "df['retail_price'].plot(kind='hist', bins=20, title='retail_price')\n",
        "plt.gca().spines[['top', 'right',]].set_visible(False)"
      ]
    },
    {
      "cell_type": "code",
      "execution_count": 6,
      "metadata": {
        "colab": {
          "base_uri": "https://localhost:8080/"
        },
        "id": "6GmysaDFsQH3",
        "outputId": "a3236a4d-915c-4581-c1f0-5ce26fc629a4"
      },
      "outputs": [
        {
          "output_type": "execute_result",
          "data": {
            "text/plain": [
              "2556"
            ]
          },
          "metadata": {},
          "execution_count": 6
        }
      ],
      "source": [
        "len(df['product_name'])"
      ]
    },
    {
      "cell_type": "code",
      "execution_count": 7,
      "metadata": {
        "colab": {
          "base_uri": "https://localhost:8080/"
        },
        "id": "RjOjuod7sYc8",
        "outputId": "7b596e28-c698-4d3f-81be-8031e9ad8ac3"
      },
      "outputs": [
        {
          "output_type": "execute_result",
          "data": {
            "text/plain": [
              "(1637, 2556)"
            ]
          },
          "metadata": {},
          "execution_count": 7
        }
      ],
      "source": [
        "len(df['product_name'].unique()),len(df['uniq_id'].unique())"
      ]
    },
    {
      "cell_type": "code",
      "execution_count": 8,
      "metadata": {
        "colab": {
          "base_uri": "https://localhost:8080/"
        },
        "id": "LEPgn3LPscoV",
        "outputId": "8f34ce60-bd7a-4f37-93ff-bcf65499aace"
      },
      "outputs": [
        {
          "output_type": "stream",
          "name": "stdout",
          "text": [
            "<class 'pandas.core.frame.DataFrame'>\n",
            "RangeIndex: 2556 entries, 0 to 2555\n",
            "Data columns (total 15 columns):\n",
            " #   Column                   Non-Null Count  Dtype  \n",
            "---  ------                   --------------  -----  \n",
            " 0   uniq_id                  2556 non-null   object \n",
            " 1   crawl_timestamp          2556 non-null   object \n",
            " 2   product_url              2556 non-null   object \n",
            " 3   product_name             2556 non-null   object \n",
            " 4   product_category_tree    2555 non-null   object \n",
            " 5   pid                      2555 non-null   object \n",
            " 6   retail_price             2549 non-null   float64\n",
            " 7   discounted_price         2549 non-null   float64\n",
            " 8   image                    2555 non-null   object \n",
            " 9   is_FK_Advantage_product  2555 non-null   object \n",
            " 10  description              2554 non-null   object \n",
            " 11  product_rating           2555 non-null   object \n",
            " 12  overall_rating           2555 non-null   object \n",
            " 13  brand                    1895 non-null   object \n",
            " 14  product_specifications   2551 non-null   object \n",
            "dtypes: float64(2), object(13)\n",
            "memory usage: 299.7+ KB\n"
          ]
        }
      ],
      "source": [
        "df.info()"
      ]
    },
    {
      "cell_type": "code",
      "execution_count": 9,
      "metadata": {
        "colab": {
          "base_uri": "https://localhost:8080/",
          "height": 300
        },
        "id": "AkAaMUsJsf1x",
        "outputId": "11241b0c-7776-490c-b5d6-5febf669802e"
      },
      "outputs": [
        {
          "output_type": "execute_result",
          "data": {
            "text/plain": [
              "        retail_price  discounted_price\n",
              "count    2549.000000       2549.000000\n",
              "mean     4209.389172       3001.558258\n",
              "std     14567.510195      13666.286536\n",
              "min        49.000000         49.000000\n",
              "25%       849.000000        349.000000\n",
              "50%      1245.000000        599.000000\n",
              "75%      2100.000000       1119.000000\n",
              "max    571230.000000     571230.000000"
            ],
            "text/html": [
              "\n",
              "  <div id=\"df-afb6ecce-b61d-42e5-9c27-47f5c8e28510\" class=\"colab-df-container\">\n",
              "    <div>\n",
              "<style scoped>\n",
              "    .dataframe tbody tr th:only-of-type {\n",
              "        vertical-align: middle;\n",
              "    }\n",
              "\n",
              "    .dataframe tbody tr th {\n",
              "        vertical-align: top;\n",
              "    }\n",
              "\n",
              "    .dataframe thead th {\n",
              "        text-align: right;\n",
              "    }\n",
              "</style>\n",
              "<table border=\"1\" class=\"dataframe\">\n",
              "  <thead>\n",
              "    <tr style=\"text-align: right;\">\n",
              "      <th></th>\n",
              "      <th>retail_price</th>\n",
              "      <th>discounted_price</th>\n",
              "    </tr>\n",
              "  </thead>\n",
              "  <tbody>\n",
              "    <tr>\n",
              "      <th>count</th>\n",
              "      <td>2549.000000</td>\n",
              "      <td>2549.000000</td>\n",
              "    </tr>\n",
              "    <tr>\n",
              "      <th>mean</th>\n",
              "      <td>4209.389172</td>\n",
              "      <td>3001.558258</td>\n",
              "    </tr>\n",
              "    <tr>\n",
              "      <th>std</th>\n",
              "      <td>14567.510195</td>\n",
              "      <td>13666.286536</td>\n",
              "    </tr>\n",
              "    <tr>\n",
              "      <th>min</th>\n",
              "      <td>49.000000</td>\n",
              "      <td>49.000000</td>\n",
              "    </tr>\n",
              "    <tr>\n",
              "      <th>25%</th>\n",
              "      <td>849.000000</td>\n",
              "      <td>349.000000</td>\n",
              "    </tr>\n",
              "    <tr>\n",
              "      <th>50%</th>\n",
              "      <td>1245.000000</td>\n",
              "      <td>599.000000</td>\n",
              "    </tr>\n",
              "    <tr>\n",
              "      <th>75%</th>\n",
              "      <td>2100.000000</td>\n",
              "      <td>1119.000000</td>\n",
              "    </tr>\n",
              "    <tr>\n",
              "      <th>max</th>\n",
              "      <td>571230.000000</td>\n",
              "      <td>571230.000000</td>\n",
              "    </tr>\n",
              "  </tbody>\n",
              "</table>\n",
              "</div>\n",
              "    <div class=\"colab-df-buttons\">\n",
              "\n",
              "  <div class=\"colab-df-container\">\n",
              "    <button class=\"colab-df-convert\" onclick=\"convertToInteractive('df-afb6ecce-b61d-42e5-9c27-47f5c8e28510')\"\n",
              "            title=\"Convert this dataframe to an interactive table.\"\n",
              "            style=\"display:none;\">\n",
              "\n",
              "  <svg xmlns=\"http://www.w3.org/2000/svg\" height=\"24px\" viewBox=\"0 -960 960 960\">\n",
              "    <path d=\"M120-120v-720h720v720H120Zm60-500h600v-160H180v160Zm220 220h160v-160H400v160Zm0 220h160v-160H400v160ZM180-400h160v-160H180v160Zm440 0h160v-160H620v160ZM180-180h160v-160H180v160Zm440 0h160v-160H620v160Z\"/>\n",
              "  </svg>\n",
              "    </button>\n",
              "\n",
              "  <style>\n",
              "    .colab-df-container {\n",
              "      display:flex;\n",
              "      gap: 12px;\n",
              "    }\n",
              "\n",
              "    .colab-df-convert {\n",
              "      background-color: #E8F0FE;\n",
              "      border: none;\n",
              "      border-radius: 50%;\n",
              "      cursor: pointer;\n",
              "      display: none;\n",
              "      fill: #1967D2;\n",
              "      height: 32px;\n",
              "      padding: 0 0 0 0;\n",
              "      width: 32px;\n",
              "    }\n",
              "\n",
              "    .colab-df-convert:hover {\n",
              "      background-color: #E2EBFA;\n",
              "      box-shadow: 0px 1px 2px rgba(60, 64, 67, 0.3), 0px 1px 3px 1px rgba(60, 64, 67, 0.15);\n",
              "      fill: #174EA6;\n",
              "    }\n",
              "\n",
              "    .colab-df-buttons div {\n",
              "      margin-bottom: 4px;\n",
              "    }\n",
              "\n",
              "    [theme=dark] .colab-df-convert {\n",
              "      background-color: #3B4455;\n",
              "      fill: #D2E3FC;\n",
              "    }\n",
              "\n",
              "    [theme=dark] .colab-df-convert:hover {\n",
              "      background-color: #434B5C;\n",
              "      box-shadow: 0px 1px 3px 1px rgba(0, 0, 0, 0.15);\n",
              "      filter: drop-shadow(0px 1px 2px rgba(0, 0, 0, 0.3));\n",
              "      fill: #FFFFFF;\n",
              "    }\n",
              "  </style>\n",
              "\n",
              "    <script>\n",
              "      const buttonEl =\n",
              "        document.querySelector('#df-afb6ecce-b61d-42e5-9c27-47f5c8e28510 button.colab-df-convert');\n",
              "      buttonEl.style.display =\n",
              "        google.colab.kernel.accessAllowed ? 'block' : 'none';\n",
              "\n",
              "      async function convertToInteractive(key) {\n",
              "        const element = document.querySelector('#df-afb6ecce-b61d-42e5-9c27-47f5c8e28510');\n",
              "        const dataTable =\n",
              "          await google.colab.kernel.invokeFunction('convertToInteractive',\n",
              "                                                    [key], {});\n",
              "        if (!dataTable) return;\n",
              "\n",
              "        const docLinkHtml = 'Like what you see? Visit the ' +\n",
              "          '<a target=\"_blank\" href=https://colab.research.google.com/notebooks/data_table.ipynb>data table notebook</a>'\n",
              "          + ' to learn more about interactive tables.';\n",
              "        element.innerHTML = '';\n",
              "        dataTable['output_type'] = 'display_data';\n",
              "        await google.colab.output.renderOutput(dataTable, element);\n",
              "        const docLink = document.createElement('div');\n",
              "        docLink.innerHTML = docLinkHtml;\n",
              "        element.appendChild(docLink);\n",
              "      }\n",
              "    </script>\n",
              "  </div>\n",
              "\n",
              "\n",
              "<div id=\"df-e7b7225c-a90d-425f-a1ae-7fb4de4ad3e8\">\n",
              "  <button class=\"colab-df-quickchart\" onclick=\"quickchart('df-e7b7225c-a90d-425f-a1ae-7fb4de4ad3e8')\"\n",
              "            title=\"Suggest charts\"\n",
              "            style=\"display:none;\">\n",
              "\n",
              "<svg xmlns=\"http://www.w3.org/2000/svg\" height=\"24px\"viewBox=\"0 0 24 24\"\n",
              "     width=\"24px\">\n",
              "    <g>\n",
              "        <path d=\"M19 3H5c-1.1 0-2 .9-2 2v14c0 1.1.9 2 2 2h14c1.1 0 2-.9 2-2V5c0-1.1-.9-2-2-2zM9 17H7v-7h2v7zm4 0h-2V7h2v10zm4 0h-2v-4h2v4z\"/>\n",
              "    </g>\n",
              "</svg>\n",
              "  </button>\n",
              "\n",
              "<style>\n",
              "  .colab-df-quickchart {\n",
              "      --bg-color: #E8F0FE;\n",
              "      --fill-color: #1967D2;\n",
              "      --hover-bg-color: #E2EBFA;\n",
              "      --hover-fill-color: #174EA6;\n",
              "      --disabled-fill-color: #AAA;\n",
              "      --disabled-bg-color: #DDD;\n",
              "  }\n",
              "\n",
              "  [theme=dark] .colab-df-quickchart {\n",
              "      --bg-color: #3B4455;\n",
              "      --fill-color: #D2E3FC;\n",
              "      --hover-bg-color: #434B5C;\n",
              "      --hover-fill-color: #FFFFFF;\n",
              "      --disabled-bg-color: #3B4455;\n",
              "      --disabled-fill-color: #666;\n",
              "  }\n",
              "\n",
              "  .colab-df-quickchart {\n",
              "    background-color: var(--bg-color);\n",
              "    border: none;\n",
              "    border-radius: 50%;\n",
              "    cursor: pointer;\n",
              "    display: none;\n",
              "    fill: var(--fill-color);\n",
              "    height: 32px;\n",
              "    padding: 0;\n",
              "    width: 32px;\n",
              "  }\n",
              "\n",
              "  .colab-df-quickchart:hover {\n",
              "    background-color: var(--hover-bg-color);\n",
              "    box-shadow: 0 1px 2px rgba(60, 64, 67, 0.3), 0 1px 3px 1px rgba(60, 64, 67, 0.15);\n",
              "    fill: var(--button-hover-fill-color);\n",
              "  }\n",
              "\n",
              "  .colab-df-quickchart-complete:disabled,\n",
              "  .colab-df-quickchart-complete:disabled:hover {\n",
              "    background-color: var(--disabled-bg-color);\n",
              "    fill: var(--disabled-fill-color);\n",
              "    box-shadow: none;\n",
              "  }\n",
              "\n",
              "  .colab-df-spinner {\n",
              "    border: 2px solid var(--fill-color);\n",
              "    border-color: transparent;\n",
              "    border-bottom-color: var(--fill-color);\n",
              "    animation:\n",
              "      spin 1s steps(1) infinite;\n",
              "  }\n",
              "\n",
              "  @keyframes spin {\n",
              "    0% {\n",
              "      border-color: transparent;\n",
              "      border-bottom-color: var(--fill-color);\n",
              "      border-left-color: var(--fill-color);\n",
              "    }\n",
              "    20% {\n",
              "      border-color: transparent;\n",
              "      border-left-color: var(--fill-color);\n",
              "      border-top-color: var(--fill-color);\n",
              "    }\n",
              "    30% {\n",
              "      border-color: transparent;\n",
              "      border-left-color: var(--fill-color);\n",
              "      border-top-color: var(--fill-color);\n",
              "      border-right-color: var(--fill-color);\n",
              "    }\n",
              "    40% {\n",
              "      border-color: transparent;\n",
              "      border-right-color: var(--fill-color);\n",
              "      border-top-color: var(--fill-color);\n",
              "    }\n",
              "    60% {\n",
              "      border-color: transparent;\n",
              "      border-right-color: var(--fill-color);\n",
              "    }\n",
              "    80% {\n",
              "      border-color: transparent;\n",
              "      border-right-color: var(--fill-color);\n",
              "      border-bottom-color: var(--fill-color);\n",
              "    }\n",
              "    90% {\n",
              "      border-color: transparent;\n",
              "      border-bottom-color: var(--fill-color);\n",
              "    }\n",
              "  }\n",
              "</style>\n",
              "\n",
              "  <script>\n",
              "    async function quickchart(key) {\n",
              "      const quickchartButtonEl =\n",
              "        document.querySelector('#' + key + ' button');\n",
              "      quickchartButtonEl.disabled = true;  // To prevent multiple clicks.\n",
              "      quickchartButtonEl.classList.add('colab-df-spinner');\n",
              "      try {\n",
              "        const charts = await google.colab.kernel.invokeFunction(\n",
              "            'suggestCharts', [key], {});\n",
              "      } catch (error) {\n",
              "        console.error('Error during call to suggestCharts:', error);\n",
              "      }\n",
              "      quickchartButtonEl.classList.remove('colab-df-spinner');\n",
              "      quickchartButtonEl.classList.add('colab-df-quickchart-complete');\n",
              "    }\n",
              "    (() => {\n",
              "      let quickchartButtonEl =\n",
              "        document.querySelector('#df-e7b7225c-a90d-425f-a1ae-7fb4de4ad3e8 button');\n",
              "      quickchartButtonEl.style.display =\n",
              "        google.colab.kernel.accessAllowed ? 'block' : 'none';\n",
              "    })();\n",
              "  </script>\n",
              "</div>\n",
              "\n",
              "    </div>\n",
              "  </div>\n"
            ],
            "application/vnd.google.colaboratory.intrinsic+json": {
              "type": "dataframe",
              "summary": "{\n  \"name\": \"df\",\n  \"rows\": 8,\n  \"fields\": [\n    {\n      \"column\": \"retail_price\",\n      \"properties\": {\n        \"dtype\": \"number\",\n        \"std\": 200722.16371775407,\n        \"min\": 49.0,\n        \"max\": 571230.0,\n        \"num_unique_values\": 8,\n        \"samples\": [\n          4209.389172224402,\n          1245.0,\n          2549.0\n        ],\n        \"semantic_type\": \"\",\n        \"description\": \"\"\n      }\n    },\n    {\n      \"column\": \"discounted_price\",\n      \"properties\": {\n        \"dtype\": \"number\",\n        \"std\": 200932.24926961446,\n        \"min\": 49.0,\n        \"max\": 571230.0,\n        \"num_unique_values\": 8,\n        \"samples\": [\n          3001.5582581404474,\n          599.0,\n          2549.0\n        ],\n        \"semantic_type\": \"\",\n        \"description\": \"\"\n      }\n    }\n  ]\n}"
            }
          },
          "metadata": {},
          "execution_count": 9
        }
      ],
      "source": [
        "df.describe()"
      ]
    },
    {
      "cell_type": "code",
      "execution_count": 10,
      "metadata": {
        "colab": {
          "base_uri": "https://localhost:8080/"
        },
        "id": "q2XO12cpsjrK",
        "outputId": "b11a4be4-9d40-4185-a734-2a23a77b2cf0"
      },
      "outputs": [
        {
          "output_type": "execute_result",
          "data": {
            "text/plain": [
              "(2556, 15)"
            ]
          },
          "metadata": {},
          "execution_count": 10
        }
      ],
      "source": [
        "df.shape"
      ]
    },
    {
      "cell_type": "code",
      "execution_count": 11,
      "metadata": {
        "colab": {
          "base_uri": "https://localhost:8080/",
          "height": 88
        },
        "id": "KvOgJ7c9sq8f",
        "outputId": "13ba4807-8427-4eef-ae70-26b11336fb86"
      },
      "outputs": [
        {
          "output_type": "execute_result",
          "data": {
            "text/plain": [
              "'Key Features of AW Bellies Sandals Wedges Heel Casuals,AW Bellies Price: Rs. 499 Material: Synthetic Lifestyle: Casual Heel Type: Wedge Warranty Type: Manufacturer Product Warranty against manufacturing defects: 30 days Care instructions: Allow your pair of shoes to air and de-odorize at regular basis; use shoe bags to prevent any stains or mildew; dust any dry dirt from the surface using a clean cloth; do not use polish or shiner,Specifications of AW Bellies General Ideal For Women Occasion Casual Shoe Details Color Red Outer Material Patent Leather Heel Height 1 inch Number of Contents in Sales Package Pack of 1 In the Box One Pair Of Shoes'"
            ],
            "application/vnd.google.colaboratory.intrinsic+json": {
              "type": "string"
            }
          },
          "metadata": {},
          "execution_count": 11
        }
      ],
      "source": [
        "df['description'][2]"
      ]
    },
    {
      "cell_type": "code",
      "execution_count": 12,
      "metadata": {
        "colab": {
          "base_uri": "https://localhost:8080/"
        },
        "id": "haZJLD8Xst8F",
        "outputId": "176523fa-04e0-437e-a60b-2c78f432fb24"
      },
      "outputs": [
        {
          "output_type": "execute_result",
          "data": {
            "text/plain": [
              "uniq_id                      0\n",
              "crawl_timestamp              0\n",
              "product_url                  0\n",
              "product_name                 0\n",
              "product_category_tree        1\n",
              "pid                          1\n",
              "retail_price                 7\n",
              "discounted_price             7\n",
              "image                        1\n",
              "is_FK_Advantage_product      1\n",
              "description                  2\n",
              "product_rating               1\n",
              "overall_rating               1\n",
              "brand                      661\n",
              "product_specifications       5\n",
              "dtype: int64"
            ]
          },
          "metadata": {},
          "execution_count": 12
        }
      ],
      "source": [
        "df.isna().sum()"
      ]
    },
    {
      "cell_type": "code",
      "execution_count": 13,
      "metadata": {
        "id": "zNVnLEIns-Br"
      },
      "outputs": [],
      "source": [
        "from sklearn.feature_extraction.text import TfidfVectorizer\n",
        "recom = TfidfVectorizer(max_features = None,\n",
        "                      strip_accents = 'unicode',\n",
        "                      analyzer = 'word',\n",
        "                      min_df = 10,\n",
        "                      token_pattern = r'\\w{1,}',\n",
        "                      ngram_range=(1,3),\n",
        "                      stop_words='english')\n",
        "\n",
        "df['description'] = df['description'].fillna('')"
      ]
    },
    {
      "cell_type": "code",
      "execution_count": 14,
      "metadata": {
        "id": "PU6CyuHftzV7"
      },
      "outputs": [],
      "source": [
        "recom_matrix = recom.fit_transform(df['description'])"
      ]
    },
    {
      "cell_type": "code",
      "execution_count": 15,
      "metadata": {
        "colab": {
          "base_uri": "https://localhost:8080/"
        },
        "id": "lGIYHC3qt7Ni",
        "outputId": "c0ec3afa-8515-4c96-dcf4-0afc5c4edecf"
      },
      "outputs": [
        {
          "output_type": "execute_result",
          "data": {
            "text/plain": [
              "<2556x4106 sparse matrix of type '<class 'numpy.float64'>'\n",
              "\twith 176437 stored elements in Compressed Sparse Row format>"
            ]
          },
          "metadata": {},
          "execution_count": 15
        }
      ],
      "source": [
        "recom_matrix"
      ]
    },
    {
      "cell_type": "code",
      "execution_count": 16,
      "metadata": {
        "colab": {
          "base_uri": "https://localhost:8080/"
        },
        "id": "DmD0WRzDuCS1",
        "outputId": "e810edbc-b344-4b40-ac16-59954387f839"
      },
      "outputs": [
        {
          "output_type": "execute_result",
          "data": {
            "text/plain": [
              "(2556, 4106)"
            ]
          },
          "metadata": {},
          "execution_count": 16
        }
      ],
      "source": [
        "recom_matrix.shape"
      ]
    },
    {
      "cell_type": "code",
      "execution_count": 17,
      "metadata": {
        "id": "TYcVGU6LuKIc"
      },
      "outputs": [],
      "source": [
        "from sklearn.metrics.pairwise import sigmoid_kernel\n",
        "import pandas as pd\n",
        "des = sigmoid_kernel(recom_matrix, recom_matrix)"
      ]
    },
    {
      "cell_type": "code",
      "execution_count": 18,
      "metadata": {
        "colab": {
          "base_uri": "https://localhost:8080/"
        },
        "id": "eMyps_i_uNs3",
        "outputId": "54c94f3b-b5d2-4ce1-e8bc-88cda59413d5"
      },
      "outputs": [
        {
          "output_type": "execute_result",
          "data": {
            "text/plain": [
              "array([0.76169642, 0.76159771, 0.76160061, ..., 0.76159725, 0.76159739,\n",
              "       0.76159416])"
            ]
          },
          "metadata": {},
          "execution_count": 18
        }
      ],
      "source": [
        "des[0]"
      ]
    },
    {
      "cell_type": "code",
      "execution_count": 19,
      "metadata": {
        "id": "lHTvwmrHvMFZ"
      },
      "outputs": [],
      "source": [
        "ind = pd.Series(df.index,index= df['product_name']).drop_duplicates()"
      ]
    },
    {
      "cell_type": "code",
      "execution_count": 20,
      "metadata": {
        "colab": {
          "base_uri": "https://localhost:8080/"
        },
        "id": "ork5L6BlvPvT",
        "outputId": "7a24cb24-07a6-48f5-b6be-12adffd5e08c"
      },
      "outputs": [
        {
          "output_type": "execute_result",
          "data": {
            "text/plain": [
              "product_name\n",
              "Alisha Solid Women's Cycling Shorts                                       0\n",
              "FabHomeDecor Fabric Double Sofa Bed                                       1\n",
              "AW Bellies                                                                2\n",
              "Alisha Solid Women's Cycling Shorts                                       3\n",
              "Sicons All Purpose Arnica Dog Shampoo                                     4\n",
              "Eternal Gandhi Super Series Crystal Paper Weights  with Silver Finish     5\n",
              "Alisha Solid Women's Cycling Shorts                                       6\n",
              "FabHomeDecor Fabric Double Sofa Bed                                       7\n",
              "dilli bazaaar Bellies, Corporate Casuals, Casuals                         8\n",
              "Alisha Solid Women's Cycling Shorts                                       9\n",
              "Ladela Bellies                                                           10\n",
              "Carrel Printed Women's                                                   11\n",
              "Sicons All Purpose Tea Tree Dog Shampoo                                  12\n",
              "Alisha Solid Women's Cycling Shorts                                      13\n",
              "Freelance Vacuum Bottles 350 ml Bottle                                   14\n",
              "Alisha Solid Women's Cycling Shorts                                      15\n",
              "FabHomeDecor Fabric Double Sofa Bed                                      16\n",
              "Style Foot Bellies                                                       17\n",
              "Carrel Printed Women's                                                   18\n",
              "FabHomeDecor Fabric Double Sofa Bed                                      19\n",
              "Sicons Conditioning Conditoner Dog Shampoo                               20\n",
              "Alisha Solid Women's Cycling Shorts                                      21\n",
              "dongli Printed Boy's Round Neck T-Shirt                                  22\n",
              "SWAGGA Women Clogs                                                       23\n",
              "Kennel Rubber Dumbell With Bell - Small Rubber Rubber Toy For Dog        24\n",
              "Glus Wedding Lingerie Set                                                25\n",
              "Veelys Shiny White Quad Roller Skates - Size 4.5 UK                      26\n",
              "Bulaky vanity case Jewellery Vanity Case                                 27\n",
              "FDT Women's Leggings                                                     28\n",
              "Madcaps C38GR30 Men's Cargos                                             29\n",
              "dtype: int64"
            ]
          },
          "metadata": {},
          "execution_count": 20
        }
      ],
      "source": [
        "ind.head(30)"
      ]
    },
    {
      "cell_type": "code",
      "execution_count": 21,
      "metadata": {
        "id": "yvKah0_qvS7C"
      },
      "outputs": [],
      "source": [
        "def recommendation_system(title,des=des):\n",
        "    index = ind[title]\n",
        "    # Handle potential multiple indices\n",
        "    if isinstance(index, pd.Series):\n",
        "        index = index.iloc[0]  # Select the first index if multiple found\n",
        "    des_scores = list(enumerate(des[index]))\n",
        "\n",
        "    des_scores = sorted(des_scores, key= lambda x: x[1], reverse = True)\n",
        "    des_scores = des_scores[1:11]\n",
        "    item_indices = [i[0] for i in des_scores]\n",
        "    return df['product_name'].iloc[item_indices]"
      ]
    },
    {
      "cell_type": "code",
      "execution_count": 26,
      "metadata": {
        "colab": {
          "base_uri": "https://localhost:8080/"
        },
        "id": "V4DZLNIOvcKb",
        "outputId": "1b53ee47-bac9-492e-e4f9-c2247a5fb007"
      },
      "outputs": [
        {
          "output_type": "stream",
          "name": "stdout",
          "text": [
            "Enter the name of the product: Madcaps C38GR30 Men's Cargos\n",
            "\n",
            "Products Recommended for you are: \n",
            "\n",
            "[\"Madcaps C31GR30 Men's Cargos\" \"SkyStar Cargo Bermuda Men's Cargos\"\n",
            " \"Blimey Convertible Men's Cargos\" \"Bodymark 768 Men's Cargos\"\n",
            " \"London Bee Black Men's Cargos\"\n",
            " \"Silver Bucks Camouflage Cargo Men's Cargos\"\n",
            " \"J Marks Multicolor Men's Cargos\" \"Sports 52 Wear Men's Cargos\"\n",
            " \"Sports 52 Wear C1595 Men's Cargos\"\n",
            " \"Life by Shoppers Stop Premium Men's Cargos\"]\n"
          ]
        }
      ],
      "source": [
        "user = input(\"Enter the name of the product: \")\n",
        "print(\"\\nProducts Recommended for you are: \\n\")\n",
        "print(recommendation_system(user).unique())"
      ]
    },
    {
      "cell_type": "code",
      "execution_count": null,
      "metadata": {
        "id": "Ka5_raiAvfwQ"
      },
      "outputs": [],
      "source": []
    }
  ],
  "metadata": {
    "colab": {
      "provenance": []
    },
    "kernelspec": {
      "display_name": "Python 3",
      "name": "python3"
    },
    "language_info": {
      "name": "python"
    }
  },
  "nbformat": 4,
  "nbformat_minor": 0
}